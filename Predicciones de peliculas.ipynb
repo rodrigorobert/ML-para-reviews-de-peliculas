{
 "cells": [
  {
   "cell_type": "code",
   "execution_count": 245,
   "id": "955f10b9",
   "metadata": {},
   "outputs": [],
   "source": [
    "#clasificación de textos\n",
    "\n",
    "# utilizaremos sklearn.smv.LinearSVC\n",
    "#--> por ejemplo, según el texto de la revisión, vemos si el la review fue buena o mala"
   ]
  },
  {
   "cell_type": "code",
   "execution_count": 246,
   "id": "aa5568f1",
   "metadata": {},
   "outputs": [],
   "source": [
    "import numpy as np\n",
    "import pandas as pd\n",
    "import nltk"
   ]
  },
  {
   "cell_type": "code",
   "execution_count": 247,
   "id": "72a2c340",
   "metadata": {},
   "outputs": [
    {
     "name": "stdout",
     "output_type": "stream",
     "text": [
      "C:\\Users\\MegaTecnologia\\Documents\\Udemy - Procesamiento del lenguaje natural con NLP y Python\\Datasets\n"
     ]
    }
   ],
   "source": [
    "cd C:\\Users\\MegaTecnologia\\Documents\\Udemy - Procesamiento del lenguaje natural con NLP y Python\\Datasets"
   ]
  },
  {
   "cell_type": "code",
   "execution_count": 248,
   "id": "52c01bd8",
   "metadata": {},
   "outputs": [
    {
     "name": "stdout",
     "output_type": "stream",
     "text": [
      " El volumen de la unidad C no tiene etiqueta.\n",
      " El número de serie del volumen es: 0A87-BFED\n",
      "\n",
      " Directorio de C:\\Users\\MegaTecnologia\\Documents\\Udemy - Procesamiento del lenguaje natural con NLP y Python\\Datasets\n",
      "\n",
      "09/01/2022  17:43    <DIR>          .\n",
      "09/01/2022  17:43    <DIR>          ..\n",
      "09/01/2022  07:48           485.645 data.csv\n",
      "09/01/2022  09:18           181.465 df_output.csv\n",
      "08/01/2022  20:29         3.774.591 name_gender_dataset.csv\n",
      "09/01/2022  17:43         5.560.420 peliculas.tsv\n",
      "18/04/2011  14:53             5.868 readme\n",
      "09/01/2022  08:00           448.993 reviews x.csv\n",
      "09/01/2022  09:13           470.007 reviews.csv\n",
      "09/01/2022  09:21           181.465 reviews_df.csv\n",
      "15/03/2011  22:36           477.907 SMSSpamCollection\n",
      "09/01/2022  10:43            77.057 Youtube - Shakira.csv\n",
      "26/03/2017  18:29            72.706 Youtube05-Shakira.csv\n",
      "              11 archivos     11.736.124 bytes\n",
      "               2 dirs  440.048.308.224 bytes libres\n"
     ]
    }
   ],
   "source": [
    "ls"
   ]
  },
  {
   "cell_type": "code",
   "execution_count": 249,
   "id": "e78b42e3",
   "metadata": {},
   "outputs": [],
   "source": [
    "datos = pd.read_csv('peliculas.tsv', sep='\\t') #el \"sep...\" es para evitar el error de que no puede tokenizar"
   ]
  },
  {
   "cell_type": "code",
   "execution_count": 250,
   "id": "7248554d",
   "metadata": {},
   "outputs": [
    {
     "data": {
      "text/html": [
       "<div>\n",
       "<style scoped>\n",
       "    .dataframe tbody tr th:only-of-type {\n",
       "        vertical-align: middle;\n",
       "    }\n",
       "\n",
       "    .dataframe tbody tr th {\n",
       "        vertical-align: top;\n",
       "    }\n",
       "\n",
       "    .dataframe thead th {\n",
       "        text-align: right;\n",
       "    }\n",
       "</style>\n",
       "<table border=\"1\" class=\"dataframe\">\n",
       "  <thead>\n",
       "    <tr style=\"text-align: right;\">\n",
       "      <th></th>\n",
       "      <th>etiqueta</th>\n",
       "      <th>revision</th>\n",
       "    </tr>\n",
       "  </thead>\n",
       "  <tbody>\n",
       "    <tr>\n",
       "      <th>0</th>\n",
       "      <td>pos</td>\n",
       "      <td>the happy bastard's 30-second review \\r\\nbig d...</td>\n",
       "    </tr>\n",
       "    <tr>\n",
       "      <th>1</th>\n",
       "      <td>neg</td>\n",
       "      <td>hollywood never fails to astound me . \\r\\never...</td>\n",
       "    </tr>\n",
       "    <tr>\n",
       "      <th>2</th>\n",
       "      <td>neg</td>\n",
       "      <td>this is your definitive \" hollywood \" movie , ...</td>\n",
       "    </tr>\n",
       "    <tr>\n",
       "      <th>3</th>\n",
       "      <td>pos</td>\n",
       "      <td>for those of us who weren't yet born when the ...</td>\n",
       "    </tr>\n",
       "    <tr>\n",
       "      <th>4</th>\n",
       "      <td>pos</td>\n",
       "      <td>NaN</td>\n",
       "    </tr>\n",
       "  </tbody>\n",
       "</table>\n",
       "</div>"
      ],
      "text/plain": [
       "  etiqueta                                           revision\n",
       "0      pos  the happy bastard's 30-second review \\r\\nbig d...\n",
       "1      neg  hollywood never fails to astound me . \\r\\never...\n",
       "2      neg  this is your definitive \" hollywood \" movie , ...\n",
       "3      pos  for those of us who weren't yet born when the ...\n",
       "4      pos                                                NaN"
      ]
     },
     "execution_count": 250,
     "metadata": {},
     "output_type": "execute_result"
    }
   ],
   "source": [
    "datos.head()"
   ]
  },
  {
   "cell_type": "code",
   "execution_count": 251,
   "id": "cbed62f1",
   "metadata": {},
   "outputs": [
    {
     "data": {
      "text/plain": [
       "etiqueta     0\n",
       "revision    29\n",
       "dtype: int64"
      ]
     },
     "execution_count": 251,
     "metadata": {},
     "output_type": "execute_result"
    }
   ],
   "source": [
    "#CLEANING\n",
    "\n",
    "datos.isnull().sum()"
   ]
  },
  {
   "cell_type": "code",
   "execution_count": 252,
   "id": "417ebed7",
   "metadata": {},
   "outputs": [],
   "source": [
    "datos.dropna(inplace=True)"
   ]
  },
  {
   "cell_type": "code",
   "execution_count": 253,
   "id": "2034e225",
   "metadata": {},
   "outputs": [
    {
     "data": {
      "text/plain": [
       "etiqueta    0\n",
       "revision    0\n",
       "dtype: int64"
      ]
     },
     "execution_count": 253,
     "metadata": {},
     "output_type": "execute_result"
    }
   ],
   "source": [
    "datos.isnull().sum()"
   ]
  },
  {
   "cell_type": "code",
   "execution_count": 254,
   "id": "51cc8a64",
   "metadata": {},
   "outputs": [
    {
     "data": {
      "text/html": [
       "<div>\n",
       "<style scoped>\n",
       "    .dataframe tbody tr th:only-of-type {\n",
       "        vertical-align: middle;\n",
       "    }\n",
       "\n",
       "    .dataframe tbody tr th {\n",
       "        vertical-align: top;\n",
       "    }\n",
       "\n",
       "    .dataframe thead th {\n",
       "        text-align: right;\n",
       "    }\n",
       "</style>\n",
       "<table border=\"1\" class=\"dataframe\">\n",
       "  <thead>\n",
       "    <tr style=\"text-align: right;\">\n",
       "      <th></th>\n",
       "      <th>etiqueta</th>\n",
       "      <th>revision</th>\n",
       "    </tr>\n",
       "  </thead>\n",
       "  <tbody>\n",
       "    <tr>\n",
       "      <th>0</th>\n",
       "      <td>pos</td>\n",
       "      <td>the happy bastard's 30-second review \\r\\nbig d...</td>\n",
       "    </tr>\n",
       "    <tr>\n",
       "      <th>1</th>\n",
       "      <td>neg</td>\n",
       "      <td>hollywood never fails to astound me . \\r\\never...</td>\n",
       "    </tr>\n",
       "    <tr>\n",
       "      <th>2</th>\n",
       "      <td>neg</td>\n",
       "      <td>this is your definitive \" hollywood \" movie , ...</td>\n",
       "    </tr>\n",
       "    <tr>\n",
       "      <th>3</th>\n",
       "      <td>pos</td>\n",
       "      <td>for those of us who weren't yet born when the ...</td>\n",
       "    </tr>\n",
       "    <tr>\n",
       "      <th>5</th>\n",
       "      <td>neg</td>\n",
       "      <td>there's a good , and timely , story trapped de...</td>\n",
       "    </tr>\n",
       "  </tbody>\n",
       "</table>\n",
       "</div>"
      ],
      "text/plain": [
       "  etiqueta                                           revision\n",
       "0      pos  the happy bastard's 30-second review \\r\\nbig d...\n",
       "1      neg  hollywood never fails to astound me . \\r\\never...\n",
       "2      neg  this is your definitive \" hollywood \" movie , ...\n",
       "3      pos  for those of us who weren't yet born when the ...\n",
       "5      neg  there's a good , and timely , story trapped de..."
      ]
     },
     "execution_count": 254,
     "metadata": {},
     "output_type": "execute_result"
    }
   ],
   "source": [
    "datos.head()"
   ]
  },
  {
   "cell_type": "code",
   "execution_count": null,
   "id": "ccb6804a",
   "metadata": {},
   "outputs": [],
   "source": []
  },
  {
   "cell_type": "code",
   "execution_count": 255,
   "id": "53e59710",
   "metadata": {},
   "outputs": [],
   "source": [
    "#ML\n",
    "\n",
    "from sklearn.model_selection import train_test_split\n",
    "\n"
   ]
  },
  {
   "cell_type": "code",
   "execution_count": 256,
   "id": "f0ff8a47",
   "metadata": {},
   "outputs": [],
   "source": [
    "x = datos['revision']\n",
    "y = datos['etiqueta']"
   ]
  },
  {
   "cell_type": "code",
   "execution_count": 257,
   "id": "d72056cb",
   "metadata": {},
   "outputs": [],
   "source": [
    "#creamos las cuatro variables\n",
    "\n",
    "x_train, x_test, y_train, y_test = train_test_split(x,y,test_size=0.5)\n",
    "\n",
    "#PROBLEMA si no pongo el 50% las matrices me quedan diferentes y al final no puedo hacer el informe ni la matriz de confusion...\n",
    "# cosa que no me había pasado antes... obviame 50% de entramiento es poco, por eso no da muy bien los resultados"
   ]
  },
  {
   "cell_type": "code",
   "execution_count": 258,
   "id": "640b0c62",
   "metadata": {},
   "outputs": [],
   "source": [
    "from sklearn.feature_extraction.text import TfidfVectorizer\n",
    "# tranformador de los mensajes... pero no sé en qué los transforma\n",
    "\n",
    "from sklearn.pipeline import Pipeline\n",
    "# para ejecutar operaciones simultaneamente\n",
    "\n",
    "from sklearn.svm import LinearSVC\n",
    "# algoritmo de clasificación\n",
    "\n",
    "\n"
   ]
  },
  {
   "cell_type": "code",
   "execution_count": 259,
   "id": "9248dd93",
   "metadata": {},
   "outputs": [],
   "source": [
    "modelo = Pipeline([\n",
    "    ('vectorizador', TfidfVectorizer()),\n",
    "    ('clasificacion', LinearSVC())\n",
    "])"
   ]
  },
  {
   "cell_type": "code",
   "execution_count": 260,
   "id": "f11a45ac",
   "metadata": {},
   "outputs": [
    {
     "data": {
      "text/plain": [
       "True"
      ]
     },
     "execution_count": 260,
     "metadata": {},
     "output_type": "execute_result"
    }
   ],
   "source": [
    " x.shape[0] == y.shape[0]"
   ]
  },
  {
   "cell_type": "code",
   "execution_count": 261,
   "id": "3d63aac5",
   "metadata": {},
   "outputs": [
    {
     "name": "stdout",
     "output_type": "stream",
     "text": [
      "(1444,)\n",
      "(1444,)\n"
     ]
    }
   ],
   "source": [
    "print(x.shape)\n",
    "print(y.shape)"
   ]
  },
  {
   "cell_type": "code",
   "execution_count": 262,
   "id": "a1d8b83b",
   "metadata": {},
   "outputs": [
    {
     "data": {
      "text/plain": [
       "Pipeline(steps=[('vectorizador', TfidfVectorizer()),\n",
       "                ('clasificacion', LinearSVC())])"
      ]
     },
     "execution_count": 262,
     "metadata": {},
     "output_type": "execute_result"
    }
   ],
   "source": [
    "modelo.fit(x_train,y_train)"
   ]
  },
  {
   "cell_type": "code",
   "execution_count": 263,
   "id": "163044d3",
   "metadata": {},
   "outputs": [
    {
     "data": {
      "text/plain": [
       "array(['neg', 'pos', 'neg', 'pos', 'pos', 'pos', 'pos', 'neg', 'neg',\n",
       "       'neg', 'neg', 'pos', 'pos', 'neg', 'neg', 'pos', 'pos', 'pos',\n",
       "       'pos', 'neg', 'neg', 'neg', 'pos', 'neg', 'pos', 'neg', 'pos',\n",
       "       'neg', 'pos', 'pos', 'neg', 'pos', 'pos', 'neg', 'pos', 'pos',\n",
       "       'pos', 'pos', 'pos', 'neg', 'pos', 'neg', 'pos', 'neg', 'neg',\n",
       "       'neg', 'pos', 'neg', 'neg', 'pos', 'neg', 'neg', 'pos', 'pos',\n",
       "       'neg', 'neg', 'neg', 'neg', 'neg', 'neg', 'neg', 'pos', 'pos',\n",
       "       'neg', 'pos', 'neg', 'pos', 'pos', 'pos', 'pos', 'pos', 'pos',\n",
       "       'pos', 'neg', 'neg', 'pos', 'pos', 'neg', 'neg', 'neg', 'pos',\n",
       "       'neg', 'neg', 'pos', 'pos', 'neg', 'neg', 'neg', 'pos', 'neg',\n",
       "       'neg', 'neg', 'neg', 'pos', 'pos', 'pos', 'neg', 'neg', 'neg',\n",
       "       'neg', 'neg', 'pos', 'neg', 'neg', 'neg', 'neg', 'neg', 'neg',\n",
       "       'pos', 'pos', 'pos', 'pos', 'neg', 'pos', 'neg', 'neg', 'pos',\n",
       "       'neg', 'neg', 'pos', 'pos', 'neg', 'neg', 'pos', 'pos', 'neg',\n",
       "       'pos', 'pos', 'pos', 'pos', 'pos', 'pos', 'neg', 'neg', 'neg',\n",
       "       'neg', 'neg', 'pos', 'pos', 'pos', 'neg', 'neg', 'pos', 'pos',\n",
       "       'neg', 'neg', 'neg', 'pos', 'pos', 'pos', 'neg', 'neg', 'pos',\n",
       "       'pos', 'neg', 'neg', 'neg', 'pos', 'neg', 'pos', 'pos', 'neg',\n",
       "       'pos', 'neg', 'neg', 'neg', 'neg', 'neg', 'pos', 'neg', 'neg',\n",
       "       'neg', 'neg', 'pos', 'pos', 'neg', 'neg', 'neg', 'pos', 'neg',\n",
       "       'pos', 'neg', 'neg', 'neg', 'pos', 'neg', 'neg', 'neg', 'neg',\n",
       "       'neg', 'pos', 'neg', 'pos', 'neg', 'pos', 'pos', 'pos', 'pos',\n",
       "       'pos', 'neg', 'pos', 'pos', 'pos', 'pos', 'neg', 'neg', 'neg',\n",
       "       'pos', 'neg', 'pos', 'pos', 'pos', 'pos', 'pos', 'pos', 'neg',\n",
       "       'neg', 'pos', 'pos', 'pos', 'pos', 'pos', 'pos', 'neg', 'neg',\n",
       "       'neg', 'pos', 'pos', 'neg', 'neg', 'pos', 'neg', 'pos', 'pos',\n",
       "       'neg', 'pos', 'pos', 'neg', 'neg', 'neg', 'neg', 'neg', 'neg',\n",
       "       'neg', 'pos', 'pos', 'neg', 'pos', 'neg', 'neg', 'pos', 'neg',\n",
       "       'pos', 'pos', 'pos', 'pos', 'neg', 'pos', 'neg', 'pos', 'neg',\n",
       "       'neg', 'pos', 'neg', 'pos', 'neg', 'pos', 'neg', 'pos', 'pos',\n",
       "       'neg', 'neg', 'pos', 'neg', 'pos', 'neg', 'neg', 'neg', 'pos',\n",
       "       'neg', 'neg', 'neg', 'pos', 'neg', 'neg', 'neg', 'neg', 'neg',\n",
       "       'neg', 'pos', 'pos', 'pos', 'pos', 'neg', 'pos', 'pos', 'neg',\n",
       "       'pos', 'neg', 'neg', 'pos', 'pos', 'pos', 'neg', 'neg', 'pos',\n",
       "       'neg', 'pos', 'pos', 'pos', 'pos', 'pos', 'pos', 'pos', 'pos',\n",
       "       'pos', 'neg', 'neg', 'neg', 'pos', 'pos', 'neg', 'pos', 'neg',\n",
       "       'neg', 'pos', 'neg', 'pos', 'neg', 'neg', 'pos', 'pos', 'pos',\n",
       "       'neg', 'pos', 'pos', 'neg', 'neg', 'neg', 'pos', 'pos', 'neg',\n",
       "       'pos', 'pos', 'pos', 'neg', 'pos', 'pos', 'pos', 'neg', 'neg',\n",
       "       'neg', 'pos', 'neg', 'neg', 'neg', 'pos', 'pos', 'neg', 'neg',\n",
       "       'neg', 'neg', 'pos', 'pos', 'pos', 'pos', 'pos', 'pos', 'neg',\n",
       "       'neg', 'pos', 'neg', 'pos', 'pos', 'neg', 'neg', 'pos', 'neg',\n",
       "       'pos', 'pos', 'neg', 'pos', 'pos', 'neg', 'neg', 'pos', 'pos',\n",
       "       'neg', 'neg', 'neg', 'pos', 'neg', 'pos', 'pos', 'pos', 'neg',\n",
       "       'neg', 'neg', 'pos', 'pos', 'pos', 'neg', 'neg', 'pos', 'pos',\n",
       "       'neg', 'neg', 'pos', 'pos', 'neg', 'neg', 'neg', 'neg', 'pos',\n",
       "       'pos', 'neg', 'pos', 'pos', 'neg', 'pos', 'pos', 'pos', 'pos',\n",
       "       'neg', 'pos', 'pos', 'neg', 'neg', 'neg', 'pos', 'neg', 'neg',\n",
       "       'neg', 'neg', 'neg', 'pos', 'neg', 'neg', 'neg', 'pos', 'pos',\n",
       "       'pos', 'pos', 'pos', 'pos', 'neg', 'neg', 'neg', 'pos', 'neg',\n",
       "       'pos', 'neg', 'pos', 'pos', 'neg', 'neg', 'neg', 'neg', 'pos',\n",
       "       'neg', 'neg', 'pos', 'pos', 'neg', 'pos', 'neg', 'neg', 'pos',\n",
       "       'neg', 'neg', 'neg', 'neg', 'pos', 'pos', 'pos', 'neg', 'neg',\n",
       "       'pos', 'neg', 'pos', 'pos', 'pos', 'pos', 'neg', 'neg', 'pos',\n",
       "       'neg', 'pos', 'neg', 'pos', 'pos', 'pos', 'pos', 'neg', 'pos',\n",
       "       'neg', 'pos', 'neg', 'pos', 'pos', 'pos', 'pos', 'pos', 'pos',\n",
       "       'neg', 'pos', 'neg', 'neg', 'neg', 'pos', 'neg', 'pos', 'neg',\n",
       "       'neg', 'neg', 'neg', 'pos', 'pos', 'pos', 'pos', 'pos', 'neg',\n",
       "       'pos', 'pos', 'neg', 'neg', 'neg', 'neg', 'pos', 'neg', 'neg',\n",
       "       'pos', 'neg', 'pos', 'neg', 'neg', 'pos', 'neg', 'pos', 'neg',\n",
       "       'pos', 'pos', 'neg', 'neg', 'pos', 'pos', 'neg', 'pos', 'neg',\n",
       "       'neg', 'neg', 'neg', 'pos', 'pos', 'neg', 'neg', 'pos', 'pos',\n",
       "       'pos', 'pos', 'neg', 'neg', 'pos', 'pos', 'pos', 'pos', 'pos',\n",
       "       'neg', 'pos', 'neg', 'neg', 'pos', 'neg', 'pos', 'pos', 'pos',\n",
       "       'pos', 'neg', 'neg', 'pos', 'pos', 'pos', 'pos', 'neg', 'neg',\n",
       "       'neg', 'neg', 'pos', 'neg', 'neg', 'pos', 'neg', 'neg', 'pos',\n",
       "       'pos', 'pos', 'neg', 'neg', 'pos', 'neg', 'neg', 'pos', 'neg',\n",
       "       'pos', 'neg', 'neg', 'pos', 'pos', 'neg', 'neg', 'pos', 'neg',\n",
       "       'neg', 'neg', 'pos', 'neg', 'neg', 'pos', 'pos', 'neg', 'pos',\n",
       "       'neg', 'neg', 'pos', 'pos', 'neg', 'pos', 'pos', 'neg', 'pos',\n",
       "       'pos', 'neg', 'pos', 'pos', 'neg', 'pos', 'neg', 'neg', 'pos',\n",
       "       'neg', 'neg', 'neg', 'pos', 'neg', 'neg', 'pos', 'neg', 'neg',\n",
       "       'neg', 'neg', 'neg', 'neg', 'neg', 'neg', 'neg', 'neg', 'neg',\n",
       "       'pos', 'neg', 'neg', 'pos', 'neg', 'neg', 'neg', 'neg', 'pos',\n",
       "       'pos', 'neg', 'pos', 'pos', 'pos', 'pos', 'pos', 'neg', 'neg',\n",
       "       'neg', 'pos', 'neg', 'neg', 'neg', 'pos', 'neg', 'pos', 'neg',\n",
       "       'neg', 'neg', 'pos', 'neg', 'pos', 'neg', 'pos', 'pos', 'pos',\n",
       "       'pos', 'neg', 'pos', 'neg', 'neg', 'pos', 'neg', 'neg', 'neg',\n",
       "       'pos', 'neg', 'neg', 'pos', 'neg', 'neg', 'neg', 'pos', 'neg',\n",
       "       'neg', 'neg', 'pos', 'neg', 'pos', 'neg', 'neg', 'neg', 'neg',\n",
       "       'pos', 'neg'], dtype=object)"
      ]
     },
     "execution_count": 263,
     "metadata": {},
     "output_type": "execute_result"
    }
   ],
   "source": [
    "predicciones = modelo.predict(x_train)\n",
    "predicciones"
   ]
  },
  {
   "cell_type": "code",
   "execution_count": 264,
   "id": "a1efcd89",
   "metadata": {},
   "outputs": [],
   "source": [
    "#importamos la matriz de confisión para comparar las matriz predicha y la real\n",
    "from sklearn import metrics\n",
    "from sklearn.metrics import confusion_matrix, classification_report"
   ]
  },
  {
   "cell_type": "code",
   "execution_count": 265,
   "id": "11b1c614",
   "metadata": {},
   "outputs": [
    {
     "data": {
      "text/plain": [
       "True"
      ]
     },
     "execution_count": 265,
     "metadata": {},
     "output_type": "execute_result"
    }
   ],
   "source": [
    "y_test.shape[0] == predicciones.shape[0]"
   ]
  },
  {
   "cell_type": "code",
   "execution_count": 266,
   "id": "2d877c59",
   "metadata": {},
   "outputs": [
    {
     "name": "stdout",
     "output_type": "stream",
     "text": [
      "(722,)\n",
      "(722,)\n"
     ]
    }
   ],
   "source": [
    "print(y_test.shape)\n",
    "print(predicciones.shape)"
   ]
  },
  {
   "cell_type": "code",
   "execution_count": 267,
   "id": "4529136d",
   "metadata": {},
   "outputs": [],
   "source": [
    "cm = metrics.confusion_matrix(y_test, predicciones)"
   ]
  },
  {
   "cell_type": "code",
   "execution_count": 268,
   "id": "82fc9bf1",
   "metadata": {},
   "outputs": [
    {
     "name": "stdout",
     "output_type": "stream",
     "text": [
      "[[177 170]\n",
      " [199 176]]\n"
     ]
    }
   ],
   "source": [
    "print(cm)"
   ]
  },
  {
   "cell_type": "code",
   "execution_count": 269,
   "id": "e23e91be",
   "metadata": {},
   "outputs": [
    {
     "name": "stdout",
     "output_type": "stream",
     "text": [
      "              precision    recall  f1-score   support\n",
      "\n",
      "         neg       0.47      0.51      0.49       347\n",
      "         pos       0.51      0.47      0.49       375\n",
      "\n",
      "    accuracy                           0.49       722\n",
      "   macro avg       0.49      0.49      0.49       722\n",
      "weighted avg       0.49      0.49      0.49       722\n",
      "\n"
     ]
    }
   ],
   "source": [
    "print(classification_report(y_test,predicciones))"
   ]
  },
  {
   "cell_type": "code",
   "execution_count": null,
   "id": "5c110a0b",
   "metadata": {},
   "outputs": [],
   "source": []
  }
 ],
 "metadata": {
  "kernelspec": {
   "display_name": "Python 3 (ipykernel)",
   "language": "python",
   "name": "python3"
  },
  "language_info": {
   "codemirror_mode": {
    "name": "ipython",
    "version": 3
   },
   "file_extension": ".py",
   "mimetype": "text/x-python",
   "name": "python",
   "nbconvert_exporter": "python",
   "pygments_lexer": "ipython3",
   "version": "3.9.7"
  }
 },
 "nbformat": 4,
 "nbformat_minor": 5
}
